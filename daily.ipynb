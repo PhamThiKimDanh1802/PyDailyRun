{
 "cells": [
  {
   "cell_type": "code",
   "execution_count": 4,
   "id": "2d220122",
   "metadata": {},
   "outputs": [
    {
     "name": "stdout",
     "output_type": "stream",
     "text": [
      "False\n",
      "False\n",
      "False\n",
      "True\n",
      "True\n",
      "True\n"
     ]
    }
   ],
   "source": [
    "#toán tử so sánh\n",
    "\n",
    "x = 1\n",
    "y = 2 \n",
    "\n",
    "print( x==y )# so sánh bằng 1==1 --> true , giống nhau\n",
    "\n",
    "print( x>y ) # so sánh lớn \n",
    "\n",
    "print( x>=y ) # so sánh lớn hoặc bằng\n",
    "\n",
    "print( x<y ) # so sánh nhỏ \n",
    "\n",
    "print( x<=y ) # so sánh nhỏ hoặc bằng\n",
    "\n",
    "print(x!=y) # so sánh khác "
   ]
  },
  {
   "cell_type": "code",
   "execution_count": 7,
   "id": "25581575",
   "metadata": {},
   "outputs": [
    {
     "name": "stdout",
     "output_type": "stream",
     "text": [
      "False\n",
      "True\n",
      "True\n"
     ]
    }
   ],
   "source": [
    "# toán tử logic \n",
    "a=10\n",
    "b=20\n",
    "\n",
    "print(( a == b) and ( a<b)) # toán tử and --> 1 trong 2 cái false --> false \n",
    "\n",
    "print(( a == b) or ( a<b)) # toán tử hoặc --> 1 tròn 2 cái đúng --> true\n",
    "\n",
    "print(not(a == b)) # toán từ phủ định --> không sai --> true\n",
    "\n"
   ]
  },
  {
   "cell_type": "code",
   "execution_count": null,
   "id": "fd3b6b1e",
   "metadata": {},
   "outputs": [],
   "source": [
    "#toán tử nhận dạng \n",
    "a=10\n",
    "b=20\n",
    "\n",
    "print() # toán tử is -->  2 object giống --> true\n",
    "\n",
    "print() # toán tử not is --> 2 object giống  --> false\n",
    "\n"
   ]
  },
  {
   "cell_type": "code",
   "execution_count": null,
   "id": "7827b0a5",
   "metadata": {},
   "outputs": [],
   "source": [
    "#toán tuer thành viên\n",
    "a=abcde\n",
    "b=danhcute\n",
    "\n",
    "print() # toán tử in -->  ktra object tồn tại k ?--> tồn tại --> true\n",
    "\n",
    "print() # toán tử not in --> ktra object k tồn tại --> k tồn tại --> true\n"
   ]
  }
 ],
 "metadata": {
  "kernelspec": {
   "display_name": "Python 3",
   "language": "python",
   "name": "python3"
  },
  "language_info": {
   "codemirror_mode": {
    "name": "ipython",
    "version": 3
   },
   "file_extension": ".py",
   "mimetype": "text/x-python",
   "name": "python",
   "nbconvert_exporter": "python",
   "pygments_lexer": "ipython3",
   "version": "3.10.0"
  }
 },
 "nbformat": 4,
 "nbformat_minor": 5
}
